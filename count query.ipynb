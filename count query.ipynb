{
 "cells": [
  {
   "cell_type": "code",
   "execution_count": 2,
   "metadata": {},
   "outputs": [],
   "source": [
    "import pandas as pd\n",
    "import numpy as np\n",
    "import matplotlib.pyplot as plt\n",
    "from pandas.plotting import scatter_matrix\n",
    "import math\n",
    "import random\n",
    "\n",
    "from pylab import *"
   ]
  },
  {
   "cell_type": "code",
   "execution_count": 84,
   "metadata": {},
   "outputs": [],
   "source": [
    "df = pd.read_csv(\"adult_preprocessed.csv\",nrows=3000) # read file.csv "
   ]
  },
  {
   "cell_type": "code",
   "execution_count": 85,
   "metadata": {},
   "outputs": [],
   "source": [
    "\n",
    "from sklearn.preprocessing import StandardScaler\n",
    "from sklearn.preprocessing import MinMaxScaler\n",
    "from matplotlib import gridspec\n",
    "from sklearn import preprocessing\n",
    "\n",
    "#without normolization, the pearson coefficient will be very large.\n",
    "df_scaled = preprocessing.scale(df) #z-score\n",
    "df=pd.DataFrame(df_scaled)  #array transfer into dataframe\n",
    "\n",
    "df=df.drop( [0],axis='columns')\n",
    "df.columns=['age',\n",
    "'fnlwgt',\n",
    "'education-num',\n",
    "'marital-status',\n",
    "'relationship',\n",
    "'race',\n",
    "'sex',\n",
    "'capital-gain',\n",
    "'capital-loss',\n",
    "'hours-per-week',\n",
    "'country',\n",
    "'salary',\n",
    "'employment_type']\n",
    "\n",
    "df['salary']=df['salary']>0\n",
    "for salary in df.columns:\n",
    "    if df['salary'].dtype==bool:\n",
    "        df['salary']=df['salary'].astype('int')\n",
    "        \n",
    "x= df.drop(['salary'],axis=1)\n",
    "y=df['salary']"
   ]
  },
  {
   "cell_type": "code",
   "execution_count": 110,
   "metadata": {},
   "outputs": [],
   "source": [
    "def pearson_correlation(df):\n",
    "    df_pc=df.T.corr()\n",
    "    df_pc=df_pc.replace(1,0)\n",
    "    df_pc=abs(df_pc)\n",
    "    df_pc=df_pc[df_pc>0.8]\n",
    "\n",
    "    df_pc_sum=df_pc.sum()/2\n",
    "    df_corr=df_pc_sum.max()\n",
    "    return df_corr"
   ]
  },
  {
   "cell_type": "code",
   "execution_count": 111,
   "metadata": {},
   "outputs": [
    {
     "data": {
      "text/plain": [
       "77.72499931347073"
      ]
     },
     "execution_count": 111,
     "metadata": {},
     "output_type": "execute_result"
    }
   ],
   "source": [
    "pearson_correlation(x)"
   ]
  },
  {
   "cell_type": "code",
   "execution_count": 210,
   "metadata": {},
   "outputs": [],
   "source": []
  },
  {
   "cell_type": "code",
   "execution_count": 208,
   "metadata": {},
   "outputs": [],
   "source": [
    "# df_pc=x.T.corr()\n",
    "# df_pc=df_pc.replace(1,0)\n",
    "# df_pc=abs(df_pc)\n",
    "# df_pc=df_pc[df_pc>0.8]\n",
    "# df_pc[np.isnan(df_pc)]=0\n",
    "# df_pc_dummy=df_pc.mask(df_pc>0,1)\n",
    "\n",
    "# df_mean=x.T.mean()\n",
    "# df_mean=df_mean[x.T.mean()<-0.8]\n",
    "# df_index=df_mean.index.tolist()\n",
    "# count_pc=[]\n",
    "# for i in range(0,len(df_index)):\n",
    "#     count_pc.append(df_pc_dummy.iloc[df_index[i]].sum())\n",
    "#     tra_sen_count=max(count_pc)"
   ]
  },
  {
   "cell_type": "code",
   "execution_count": 227,
   "metadata": {},
   "outputs": [],
   "source": [
    "# sensitivity of group different privacy\n",
    "def group_sen_count_query(df,condition):\n",
    "    \n",
    "    df_pc=df.T.corr()\n",
    "    df_pc=df_pc.replace(1,0)\n",
    "    df_pc=abs(df_pc)\n",
    "    df_pc=df_pc[df_pc>0.9]\n",
    "    df_pc[np.isnan(df_pc)]=0\n",
    "    df_pc_dummy=df_pc.mask(df_pc>0,1) #turn Pearson coefficient into 1\n",
    "    \n",
    "    df_mean=df.T.mean()\n",
    "    df_mean=df_mean[df.T.mean()<condition]\n",
    "    df_index=df_mean.index.tolist()\n",
    "    count_pc=[]\n",
    "    for i in range(0,len(df_index)):\n",
    "        count_pc.append(df_pc_dummy.iloc[df_index[i]].sum())\n",
    "        tra_sen_count=max(count_pc)\n",
    "\n",
    "    return tra_sen_count"
   ]
  },
  {
   "cell_type": "code",
   "execution_count": 228,
   "metadata": {},
   "outputs": [
    {
     "data": {
      "text/plain": [
       "7.0"
      ]
     },
     "execution_count": 228,
     "metadata": {},
     "output_type": "execute_result"
    }
   ],
   "source": [
    "group_sen_count_query(x,-0.7)"
   ]
  },
  {
   "cell_type": "code",
   "execution_count": null,
   "metadata": {},
   "outputs": [],
   "source": [
    "\n"
   ]
  },
  {
   "cell_type": "code",
   "execution_count": null,
   "metadata": {},
   "outputs": [],
   "source": []
  },
  {
   "cell_type": "code",
   "execution_count": null,
   "metadata": {},
   "outputs": [],
   "source": []
  },
  {
   "cell_type": "code",
   "execution_count": 154,
   "metadata": {},
   "outputs": [],
   "source": [
    "#noisy answer of group DP\n",
    "\n",
    "# j=1000\n",
    "# epsilon=1\n",
    "# def MAE(df,condition):\n",
    "#     sen=group_sen_count_query(df,condition)\n",
    "#     b=sen/epsilon\n",
    "#     group_noise_array=[]\n",
    "#     for i in range(0,j):\n",
    "#         group_noise_array.append(Laplace_noise(1, 1, 0, b))\n",
    "#     group_noise_array=[abs(number) for number in group_noise_array]\n",
    "#     group_noise_MAE=sum(group_noise_array)/j\n",
    "#     return group_noise_MAE\n"
   ]
  },
  {
   "cell_type": "code",
   "execution_count": 217,
   "metadata": {},
   "outputs": [],
   "source": [
    "j=1000\n",
    "#epsilon=1\n",
    "group_noise_array=[]\n",
    "def MAE(df,condition,epsilon):\n",
    "    sen=group_sen_count_query(df,condition)\n",
    "    scale=sen/epsilon\n",
    "    loc=0\n",
    "    group_noise_array= np.random.laplace(loc, scale, j)\n",
    "    group_noise_array=[abs(number) for number in group_noise_array]\n",
    "    group_noise_MAE=sum(group_noise_array)/j\n",
    "    \n",
    "    return group_noise_MAE"
   ]
  },
  {
   "cell_type": "code",
   "execution_count": 218,
   "metadata": {},
   "outputs": [],
   "source": [
    "#Laplace_noise(1, 1, 0, 6)"
   ]
  },
  {
   "cell_type": "code",
   "execution_count": 229,
   "metadata": {},
   "outputs": [
    {
     "data": {
      "text/plain": [
       "6.663257593110743"
      ]
     },
     "execution_count": 229,
     "metadata": {},
     "output_type": "execute_result"
    }
   ],
   "source": [
    "MAE(x,-0.7,1)"
   ]
  },
  {
   "cell_type": "code",
   "execution_count": 231,
   "metadata": {},
   "outputs": [
    {
     "data": {
      "text/plain": [
       "[70.41842878919972,\n",
       " 34.67978956192457,\n",
       " 23.040935659258047,\n",
       " 16.877826955316007,\n",
       " 13.996604288292877,\n",
       " 11.816983054726387,\n",
       " 9.472405759014633,\n",
       " 8.869353473320695,\n",
       " 8.278048406347377]"
      ]
     },
     "execution_count": 231,
     "metadata": {},
     "output_type": "execute_result"
    }
   ],
   "source": [
    "import math\n",
    "import random\n",
    "MAE_array=[]\n",
    "for i in range(1,10):\n",
    "    epsilon=i/10\n",
    "    \n",
    "    MAE_array.append(MAE(x,-0.7,epsilon))\n",
    "MAE_array   \n"
   ]
  },
  {
   "cell_type": "code",
   "execution_count": 232,
   "metadata": {},
   "outputs": [
    {
     "data": {
      "image/png": "[encoded data removed]",
      "text/plain": [
       "<Figure size 576x360 with 1 Axes>"
      ]
     },
     "metadata": {},
     "output_type": "display_data"
    }
   ],
   "source": [
    "\n",
    "x_label=[0.1,0.2,0.3,0.4,0.5,0.6,0.7,0.8,0.9 ]\n",
    "plt.figure(figsize=(8, 5))\n",
    "plt.plot(x_label,MAE_array,linewidth=2.0,color='red',markerfacecolor='red',marker='o',label='proposed scheme')\n",
    "plt.xlabel(\"Epslion\")\n",
    "plt.ylabel(\"MAE\")\n",
    "plt.title('Epsilon VS MAE')\n",
    "#plt.grid(True)\n",
    "#xlim(0.2, 1)\n",
    "#ylim(0,1)\n",
    "#plt.show()\n",
    "plt.savefig(\"Epsilon VS MAE .jpg\")"
   ]
  },
  {
   "cell_type": "markdown",
   "metadata": {},
   "source": [
    "# proposed scheme"
   ]
  },
  {
   "cell_type": "code",
   "execution_count": 245,
   "metadata": {},
   "outputs": [],
   "source": [
    "#sensitivity of proposed scheme\n",
    "def sen_count_query(df,condition):\n",
    "    \n",
    "    df_pc=df.T.corr()\n",
    "    df_pc=df_pc.replace(1,0)\n",
    "    df_pc=abs(df_pc)\n",
    "    df_pc=df_pc[df_pc>0.9]\n",
    "    df_pc[np.isnan(df_pc)]=0\n",
    "    \n",
    "   \n",
    "    df_mean=df.T.mean()\n",
    "    df_mean=df_mean[df.T.mean()<condition]\n",
    "    df_index=df_mean.index.tolist()\n",
    "    count_pc=[]\n",
    "    for i in range(0,len(df_index)):\n",
    "        count_pc.append(df_pc.iloc[df_index[i]].sum())\n",
    "        tra_sen_count=max(count_pc)\n",
    "\n",
    "    return tra_sen_count"
   ]
  },
  {
   "cell_type": "code",
   "execution_count": 246,
   "metadata": {},
   "outputs": [
    {
     "data": {
      "text/plain": [
       "6.421725673307343"
      ]
     },
     "execution_count": 246,
     "metadata": {},
     "output_type": "execute_result"
    }
   ],
   "source": [
    "sen_count_query(x,-0.7)"
   ]
  },
  {
   "cell_type": "code",
   "execution_count": null,
   "metadata": {},
   "outputs": [],
   "source": []
  },
  {
   "cell_type": "code",
   "execution_count": 247,
   "metadata": {},
   "outputs": [],
   "source": [
    "j=1000\n",
    "#epsilon=1\n",
    "proposed_noise_array=[]\n",
    "def MAE_proposed(df,condition,epsilon):\n",
    "    sen=sen_count_query(df,condition)\n",
    "    scale=sen/epsilon\n",
    "    loc=0\n",
    "    group_noise_array= np.random.laplace(loc, scale, j)\n",
    "    group_noise_array=[abs(number) for number in group_noise_array]\n",
    "    group_noise_MAE=sum(group_noise_array)/j\n",
    "    \n",
    "    return group_noise_MAE\n"
   ]
  },
  {
   "cell_type": "code",
   "execution_count": 248,
   "metadata": {},
   "outputs": [
    {
     "data": {
      "text/plain": [
       "[64.24766003261878,\n",
       " 31.188158671835104,\n",
       " 21.020893028800277,\n",
       " 15.618449029301527,\n",
       " 12.6579721131791,\n",
       " 10.660946112032077,\n",
       " 9.857337360428671,\n",
       " 8.109198038315633,\n",
       " 7.280223278695056]"
      ]
     },
     "execution_count": 248,
     "metadata": {},
     "output_type": "execute_result"
    }
   ],
   "source": [
    "import math\n",
    "import random\n",
    "MAE_proposed_array=[]\n",
    "for i in range(1,10):\n",
    "    epsilon=i/10\n",
    "    \n",
    "    MAE_proposed_array.append(MAE_proposed(x,-0.7,epsilon))\n",
    "MAE_proposed_array "
   ]
  },
  {
   "cell_type": "code",
   "execution_count": 249,
   "metadata": {},
   "outputs": [
    {
     "data": {
      "image/png": "[encoded data removed]",
      "text/plain": [
       "<Figure size 576x360 with 1 Axes>"
      ]
     },
     "metadata": {},
     "output_type": "display_data"
    }
   ],
   "source": [
    "x_label=[0.1,0.2,0.3,0.4,0.5,0.6,0.7,0.8,0.9 ]\n",
    "plt.figure(figsize=(8, 5))\n",
    "plt.plot(x_label,MAE_array,linewidth=2.0,color='red',markerfacecolor='red',marker='o',label='group DP')\n",
    "plt.plot(x_label,MAE_proposed_array,linewidth=2.0,color='blue',markerfacecolor='blue',marker='o',label='proposed scheme')\n",
    "plt.xlabel(\"Epslion\")\n",
    "plt.ylabel(\"MAE\")\n",
    "plt.title('Epsilon VS MAE')\n",
    "#plt.grid(True)\n",
    "#xlim(0.2, 1)\n",
    "#ylim(0,1)\n",
    "#plt.show()\n",
    "plt.savefig(\"Epsilon VS MAE .jpg\")"
   ]
  },
  {
   "cell_type": "markdown",
   "metadata": {},
   "source": [
    "# feature selection scheme"
   ]
  },
  {
   "cell_type": "code",
   "execution_count": null,
   "metadata": {},
   "outputs": [],
   "source": []
  }
 ],
 "metadata": {
  "kernelspec": {
   "display_name": "Python 3",
   "language": "python",
   "name": "python3"
  },
  "language_info": {
   "codemirror_mode": {
    "name": "ipython",
    "version": 3
   },
   "file_extension": ".py",
   "mimetype": "text/x-python",
   "name": "python",
   "nbconvert_exporter": "python",
   "pygments_lexer": "ipython3",
   "version": "3.6.5"
  }
 },
 "nbformat": 4,
 "nbformat_minor": 2
}
